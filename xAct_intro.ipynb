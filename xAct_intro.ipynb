{
 "cells": [
  {
   "attachments": {},
   "cell_type": "markdown",
   "metadata": {},
   "source": [
    "Introduction to xAct\n",
    "============="
   ]
  },
  {
   "attachments": {},
   "cell_type": "markdown",
   "metadata": {},
   "source": [
    "Jiwon Park, November 29, 2022"
   ]
  },
  {
   "attachments": {},
   "cell_type": "markdown",
   "metadata": {},
   "source": [
    "What is xAct?\n",
    "-------------\n",
    "xACt is a Mathematica package to conduct symbolic computation in general relativity. It has the broadest usage among codes currently out, allowing many techniques including curvature computation, coordinates transformation, rule-based computation, action principle and perturbation theory."
   ]
  },
  {
   "attachments": {},
   "cell_type": "markdown",
   "metadata": {},
   "source": [
    "load package\n",
    "-------------"
   ]
  },
  {
   "cell_type": "code",
   "execution_count": null,
   "metadata": {
    "vscode": {
     "languageId": "wolfram language"
    }
   },
   "outputs": [],
   "source": [
    "ClearAll[\"Global`*\"];\n",
    "Quiet@Block[{Print},\n",
    "  << xAct`xTensor`; << xAct`xCoba`;] \n",
    "(*quiet and block command are just used to suppress messy output*)\n",
    "removeAll := Remove[Evaluate[$Context <> \"*\"]];\n",
    "(*\n",
    "To clear symbols so that no error arise when running codes.\n",
    "Credit to: https://mathematica.stackexchange.com/questions/850/how-do-i-clear-\\all-user-defined-symbols\n",
    "*)"
   ]
  },
  {
   "attachments": {},
   "cell_type": "markdown",
   "metadata": {},
   "source": [
    "Don't be alarmed if a new DOS window opens! It's just an external computation module supporting xAct."
   ]
  },
  {
   "attachments": {},
   "cell_type": "markdown",
   "metadata": {},
   "source": [
    "declare manifold and tensors\n",
    "-------------\n",
    "M denotes manifold, 4 is dimension, a,b,c,d are coordinates indices."
   ]
  },
  {
   "cell_type": "code",
   "execution_count": null,
   "metadata": {
    "vscode": {
     "languageId": "wolfram language"
    }
   },
   "outputs": [],
   "source": [
    "DefManifold[M, 4, {a, b, c, d}]"
   ]
  },
  {
   "cell_type": "code",
   "execution_count": null,
   "metadata": {
    "vscode": {
     "languageId": "wolfram language"
    }
   },
   "outputs": [],
   "source": [
    "DefScalarFunction /@ {X, Y};\n",
    "DefScalarFunction /@ {R, H}; (*scale factor and Hubble factor*)\n",
    "R'[t_] := H[t] R[t]\n",
    "R''[t_] := D[H[t] R[t], t]"
   ]
  },
  {
   "cell_type": "code",
   "execution_count": null,
   "metadata": {
    "vscode": {
     "languageId": "wolfram language"
    }
   },
   "outputs": [],
   "source": [
    "DefTensor[v[a], M] (*covariant index*)\n",
    "v[a]//TeXForm"
   ]
  },
  {
   "cell_type": "code",
   "execution_count": null,
   "metadata": {
    "vscode": {
     "languageId": "wolfram language"
    }
   },
   "outputs": [],
   "source": [
    "DefTensor[w[-a], M] (*contravariant index*)\n",
    "w[-a]//TeXForm"
   ]
  },
  {
   "attachments": {},
   "cell_type": "markdown",
   "metadata": {},
   "source": [
    "we can define (anti-)symmetric tensors easily."
   ]
  },
  {
   "cell_type": "code",
   "execution_count": null,
   "metadata": {
    "vscode": {
     "languageId": "wolfram language"
    }
   },
   "outputs": [],
   "source": [
    "DefTensor[F[-a, -b], M, Symmetric[{-a, -b}]]\n",
    "F[-a, -b]//TeXForm"
   ]
  },
  {
   "cell_type": "code",
   "execution_count": null,
   "metadata": {
    "vscode": {
     "languageId": "wolfram language"
    }
   },
   "outputs": [],
   "source": [
    "F[-b, -a] // ToCanonical//TeXForm"
   ]
  },
  {
   "cell_type": "code",
   "execution_count": null,
   "metadata": {
    "vscode": {
     "languageId": "wolfram language"
    }
   },
   "outputs": [],
   "source": [
    "DefTensor[G[-a, -b], M, Antisymmetric[{-a, -b}]]\n",
    "G[-a, -b]//TeXForm"
   ]
  },
  {
   "cell_type": "code",
   "execution_count": null,
   "metadata": {
    "vscode": {
     "languageId": "wolfram language"
    }
   },
   "outputs": [],
   "source": [
    "G[-b, -a] // ToCanonical//TeXForm"
   ]
  },
  {
   "attachments": {},
   "cell_type": "markdown",
   "metadata": {},
   "source": [
    "The Mathematica's standard function 'Simplify' does not carry out full tensor manipulation. Instead, we use 'ToCanonical.'"
   ]
  },
  {
   "cell_type": "code",
   "execution_count": null,
   "metadata": {
    "vscode": {
     "languageId": "wolfram language"
    }
   },
   "outputs": [],
   "source": [
    "v[a] v[b] G[-a, -b] // Simplify//TeXForm"
   ]
  },
  {
   "cell_type": "code",
   "execution_count": null,
   "metadata": {
    "vscode": {
     "languageId": "wolfram language"
    }
   },
   "outputs": [],
   "source": [
    "v[a] v[b] G[-a, -b] // ToCanonical//TeXForm"
   ]
  },
  {
   "cell_type": "code",
   "execution_count": null,
   "metadata": {
    "vscode": {
     "languageId": "wolfram language"
    }
   },
   "outputs": [],
   "source": [
    "(v[a] v[b] F[-a, -b] + v[a] v[c] F[-a, -c]) // Simplify//TeXForm"
   ]
  },
  {
   "cell_type": "code",
   "execution_count": null,
   "metadata": {
    "vscode": {
     "languageId": "wolfram language"
    }
   },
   "outputs": [],
   "source": [
    "(v[a] v[b] F[-a, -b] + v[a] v[c] F[-a, -c]) // ToCanonical//TeXForm"
   ]
  },
  {
   "attachments": {},
   "cell_type": "markdown",
   "metadata": {},
   "source": [
    "chart and coordinates\n",
    "----------\n",
    "To convey computations under a specific coordinates, we use 'DefChart' function."
   ]
  },
  {
   "cell_type": "code",
   "execution_count": null,
   "metadata": {
    "vscode": {
     "languageId": "wolfram language"
    }
   },
   "outputs": [],
   "source": [
    "Quiet@Block[\n",
    "  {Print},\n",
    "    DefChart[Cartesian, M, {0, 1, 2, 3}, {t[], x[], y[], z[]}, \n",
    "      ChartColor -> Green];\n",
    "    DefChart[Spherical, M, {0, 1, 2, 3}, {t[], r[], \\[Theta][], \\[Phi][]},\n",
    "      ChartColor -> Red];\n",
    "]"
   ]
  },
  {
   "attachments": {},
   "cell_type": "markdown",
   "metadata": {},
   "source": [
    "Under the given chart, we can now assign matrix components for tensors."
   ]
  },
  {
   "cell_type": "code",
   "execution_count": null,
   "metadata": {
    "vscode": {
     "languageId": "wolfram language"
    }
   },
   "outputs": [],
   "source": [
    "matrixComponent =\n",
    "  {\n",
    "   {X[t[]], Y[t[]], Y[t[]], Y[t[]]},\n",
    "   {Y[t[]], X[t[]], 0, 0},\n",
    "   {Y[t[]], 0, X[t[]], 0},\n",
    "   {Y[t[]], 0, 0, X[t[]]}\n",
    "   };\n",
    "matrixComponent // MatrixForm//TeXForm"
   ]
  },
  {
   "cell_type": "code",
   "execution_count": null,
   "metadata": {
    "vscode": {
     "languageId": "wolfram language"
    }
   },
   "outputs": [],
   "source": [
    "F[-a, -b] // ComponentArray//TeXForm\n",
    "(*component array before chart declaration*)"
   ]
  },
  {
   "cell_type": "code",
   "execution_count": null,
   "metadata": {
    "vscode": {
     "languageId": "wolfram language"
    }
   },
   "outputs": [],
   "source": [
    "F[{-a, -Cartesian}, {-b, -Cartesian}] // ComponentArray//TeXForm\n",
    "(*component array under Cartesian coordinates*)"
   ]
  },
  {
   "attachments": {},
   "cell_type": "markdown",
   "metadata": {},
   "source": [
    "we use 'ComponentValue' to assign values."
   ]
  },
  {
   "cell_type": "code",
   "execution_count": null,
   "metadata": {
    "vscode": {
     "languageId": "wolfram language"
    }
   },
   "outputs": [],
   "source": [
    "ComponentValue[F[-{a,Cartesian}, -{b, Cartesian}]// ComponentArray, matrixComponent] //TeXForm"
   ]
  },
  {
   "cell_type": "code",
   "execution_count": null,
   "metadata": {
    "vscode": {
     "languageId": "wolfram language"
    }
   },
   "outputs": [],
   "source": [
    "ComponentValue[ G[{-a, -Cartesian}, {-b, -Cartesian}]//ComponentArray, matrixComponent]//TeXForm"
   ]
  },
  {
   "cell_type": "code",
   "execution_count": null,
   "metadata": {
    "vscode": {
     "languageId": "wolfram language"
    }
   },
   "outputs": [],
   "source": [
    "F[-a, -b]//TeXForm"
   ]
  },
  {
   "attachments": {},
   "cell_type": "markdown",
   "metadata": {},
   "source": [
    "We cannot show values without a specific coordinates. "
   ]
  },
  {
   "cell_type": "code",
   "execution_count": null,
   "metadata": {
    "vscode": {
     "languageId": "wolfram language"
    }
   },
   "outputs": [],
   "source": [
    "F[-1, -1]//TeXForm"
   ]
  },
  {
   "attachments": {},
   "cell_type": "markdown",
   "metadata": {},
   "source": [
    "To set coordinates, we use 'ToBasis' function."
   ]
  },
  {
   "cell_type": "code",
   "execution_count": null,
   "metadata": {
    "vscode": {
     "languageId": "wolfram language"
    }
   },
   "outputs": [],
   "source": [
    "F[-a, -b] // ToBasis[Cartesian]//TeXForm"
   ]
  },
  {
   "cell_type": "code",
   "execution_count": null,
   "metadata": {
    "vscode": {
     "languageId": "wolfram language"
    }
   },
   "outputs": [],
   "source": [
    "F[-a, -b] // ToBasis[Cartesian] // ComponentArray//TeXForm"
   ]
  },
  {
   "cell_type": "code",
   "execution_count": null,
   "metadata": {
    "vscode": {
     "languageId": "wolfram language"
    }
   },
   "outputs": [],
   "source": [
    "F[-a, -b] // ToBasis[Cartesian] // ComponentArray // ToValues //TeXForm"
   ]
  },
  {
   "cell_type": "code",
   "execution_count": null,
   "metadata": {
    "vscode": {
     "languageId": "wolfram language"
    }
   },
   "outputs": [],
   "source": [
    "F[-a, -b] // ToBasis[Cartesian] // ComponentArray // ToValues //TeXForm\n",
    "%[[1, 1]]//TeXForm\n",
    "(*note that Mathematica matrix indices begin with 1, not 0!*)"
   ]
  },
  {
   "attachments": {},
   "cell_type": "markdown",
   "metadata": {},
   "source": [
    "Let us put things together!\n",
    "\n",
    "※ For those who wonder why we apply 'ToValues' function many times:\n",
    "in fact it depends on the situation. Since xAct package does not support auto-evaluation function like 'Evaluate' in Mathematica, we need to iterate 'ToValues' to fully evaluate every component of a tensor. For most cases, it suffices to apply twice or triple.\n",
    "You may modify 'MyArrayComponents' to see how the output varies by changing the number of iterations."
   ]
  },
  {
   "cell_type": "code",
   "execution_count": null,
   "metadata": {
    "vscode": {
     "languageId": "wolfram language"
    }
   },
   "outputs": [],
   "source": [
    "MyArrayComponents[expr_] := \n",
    " expr // ToBasis[Cartesian] // ComponentArray // ToValues // \n",
    "     ToValues // ToValues // Simplify // MatrixForm"
   ]
  },
  {
   "cell_type": "code",
   "execution_count": null,
   "metadata": {
    "vscode": {
     "languageId": "wolfram language"
    }
   },
   "outputs": [],
   "source": [
    "F[-a, -b] // MyArrayComponents//TeXForm"
   ]
  },
  {
   "attachments": {},
   "cell_type": "markdown",
   "metadata": {},
   "source": [
    "Note that matrix components are automatically changed to follow previously declared rules."
   ]
  },
  {
   "cell_type": "code",
   "execution_count": null,
   "metadata": {
    "vscode": {
     "languageId": "wolfram language"
    }
   },
   "outputs": [],
   "source": [
    "G[-a, -b] // MyArrayComponents//TeXForm"
   ]
  },
  {
   "cell_type": "code",
   "execution_count": null,
   "metadata": {
    "vscode": {
     "languageId": "wolfram language"
    }
   },
   "outputs": [],
   "source": [
    "F[a, -b] // MyArrayComponents"
   ]
  },
  {
   "cell_type": "code",
   "execution_count": null,
   "metadata": {
    "vscode": {
     "languageId": "wolfram language"
    }
   },
   "outputs": [],
   "source": [
    "metricMatrix =\n",
    "  {\n",
    "   {-1, 0, 0, 0},\n",
    "   {0, Z[t[]]^2, 0, 0},\n",
    "   {0, 0, Z[t[]]^2, 0},\n",
    "   {0, 0, 0, Z[t[]]^2}\n",
    "   };\n",
    "metricMatrix // MatrixForm//TeXForm"
   ]
  },
  {
   "attachments": {},
   "cell_type": "markdown",
   "metadata": {},
   "source": [
    "metric, covariant derivatives, curvature\n",
    "-------\n",
    "Let us define metric tensor under Cartesian coordinates."
   ]
  },
  {
   "cell_type": "code",
   "execution_count": null,
   "metadata": {
    "vscode": {
     "languageId": "wolfram language"
    }
   },
   "outputs": [],
   "source": [
    "DefMetric[-1, g[-a, -b], covd, {\";\", \"\\[Del]\"}, PrintAs -> \"g\"];\n",
    "MatrixForm@MetricInBasis[g, -Cartesian, metricMatrix]"
   ]
  },
  {
   "cell_type": "code",
   "execution_count": null,
   "metadata": {
    "vscode": {
     "languageId": "wolfram language"
    }
   },
   "outputs": [],
   "source": [
    "MetricCompute[g, Cartesian, All]"
   ]
  },
  {
   "cell_type": "code",
   "execution_count": null,
   "metadata": {
    "vscode": {
     "languageId": "wolfram language"
    }
   },
   "outputs": [],
   "source": [
    "g[{a, Cartesian}, {b, Cartesian}] // MyArrayComponents//TeXForm"
   ]
  },
  {
   "attachments": {},
   "cell_type": "markdown",
   "metadata": {},
   "source": [
    "Tensor indices cannot be automatically raised or lowered. To make this operations possible, we have to use 'ChangeComponents' function.\n",
    "ChangeComponents[B,A] defines B from A, metric and rules."
   ]
  },
  {
   "cell_type": "code",
   "execution_count": null,
   "metadata": {
    "vscode": {
     "languageId": "wolfram language"
    }
   },
   "outputs": [],
   "source": [
    "ChangeComponents[F[{a, Cartesian}, -{b, Cartesian}], \n",
    "  F[-{a, Cartesian}, -{b, Cartesian}]]; \n",
    "ChangeComponents[F[-{a, Cartesian}, {b, Cartesian}], \n",
    "  F[-{a, Cartesian}, -{b, Cartesian}]]; "
   ]
  },
  {
   "cell_type": "code",
   "execution_count": null,
   "metadata": {
    "vscode": {
     "languageId": "wolfram language"
    }
   },
   "outputs": [],
   "source": [
    "F[-a, b] // MyArrayComponents//TeXForm"
   ]
  },
  {
   "attachments": {},
   "cell_type": "markdown",
   "metadata": {},
   "source": [
    "Note that metric compatibility is naturally satisfied because $\\nabla$ is defined from the metric."
   ]
  },
  {
   "cell_type": "code",
   "execution_count": null,
   "metadata": {
    "vscode": {
     "languageId": "wolfram language"
    }
   },
   "outputs": [],
   "source": [
    "covd[c]@g[a, b]//TeXForm"
   ]
  },
  {
   "attachments": {},
   "cell_type": "markdown",
   "metadata": {},
   "source": [
    "We can also obtain curvature tensors directly."
   ]
  },
  {
   "cell_type": "code",
   "execution_count": null,
   "metadata": {
    "vscode": {
     "languageId": "wolfram"
    }
   },
   "outputs": [],
   "source": [
    "Riccicovd[-a, -b] // MyArrayComponents\n",
    "Einsteincovd[-a, -b] // MyArrayComponents"
   ]
  },
  {
   "attachments": {},
   "cell_type": "markdown",
   "metadata": {},
   "source": [
    "Rule-based computation\n",
    "--------\n",
    "However, we cannot evaluate derivatives in general. "
   ]
  },
  {
   "cell_type": "code",
   "execution_count": null,
   "metadata": {
    "vscode": {
     "languageId": "wolfram language"
    }
   },
   "outputs": [],
   "source": [
    "matrixComponent2 =\n",
    "  {\n",
    "   {X[t[]], 0, 0, 0},\n",
    "   {0, X[t[]], 0, 0},\n",
    "   {0, 0, X[t[]], 0},\n",
    "   {0, 0, 0, X[t[]]}\n",
    "   };\n",
    "matrixComponent2 // MatrixForm\n",
    "ComponentValue[ F[-{a, Cartesian}, -{b, Cartesian}] // ComponentArray, matrixComponent2]"
   ]
  },
  {
   "cell_type": "code",
   "execution_count": null,
   "metadata": {
    "vscode": {
     "languageId": "wolfram language"
    }
   },
   "outputs": [],
   "source": [
    "covd[a]@F[-a, -b]//TeXForm"
   ]
  },
  {
   "attachments": {},
   "cell_type": "markdown",
   "metadata": {},
   "source": [
    "But we may compute Christoffel symbols "
   ]
  },
  {
   "cell_type": "code",
   "execution_count": null,
   "metadata": {
    "vscode": {
     "languageId": "wolfram language"
    }
   },
   "outputs": [],
   "source": [
    "ChristoffelcovdPDCartesian[a, -b, -c]\n",
    "% // MyArrayComponents"
   ]
  },
  {
   "attachments": {},
   "cell_type": "markdown",
   "metadata": {},
   "source": [
    "Although the evaluation with 'CovDToChristoffel' does not give an useful value, it shows how we should assign values."
   ]
  },
  {
   "cell_type": "code",
   "execution_count": null,
   "metadata": {
    "vscode": {
     "languageId": "wolfram language"
    }
   },
   "outputs": [],
   "source": [
    "covd[a]@F[-a, -b] // CovDToChristoffel\n",
    "(*ignore random number behind dummy indices. they are just internal pointing values.*)"
   ]
  },
  {
   "cell_type": "code",
   "execution_count": null,
   "metadata": {
    "vscode": {
     "languageId": "wolfram"
    }
   },
   "outputs": [],
   "source": [
    "EvaluationOfCovD[covd[a], F[-a, b_]] := Module[{index = b},\n",
    "   coord[a_] := {t[], x[], y[], z[]}[[a + 1]];\n",
    "   MyChristoffel = \n",
    "    ChristoffelcovdPDCartesian[a, -c, -d] // ToBasis[Cartesian] // \n",
    "         ComponentArray // ToValues // ToValues // ToValues // \n",
    "     Simplify;\n",
    "   (*we do not change it to MatrixForm. \n",
    "   otherwise it will cause unnessasary error.*)\n",
    "   result =\n",
    "    (-Sum[\n",
    "          MyChristoffel[[d + 1, a + 1, index + 1]] ToValues@\n",
    "            F[{a, Cartesian}, {d, -Cartesian}]\n",
    "          , {a, 0, 3}, {d, 0, 3}] // ToValues // Simplify)\n",
    "     + (-Sum[\n",
    "          g[{a, Cartesian}, {c, Cartesian}]\n",
    "           MyChristoffel[[d + 1, c + 1, a + 1]] ToValues@\n",
    "            F[{d, -Cartesian}, {index, -Cartesian}]\n",
    "          , {a, 0, 3}, {c, 0, 3}, {d, 0, 3}] // ToValues // Simplify)\n",
    "     + (Sum[\n",
    "         g[{a, Cartesian}, {c, Cartesian}]\n",
    "          D[ToValues@F[{a, -Cartesian}, {index, -Cartesian}], coord[c]]\n",
    "         , {a, 0, 3}, {c, 0, 3}] // ToValues // Simplify);\n",
    "   result // Simplify\n",
    "   ];"
   ]
  },
  {
   "cell_type": "code",
   "execution_count": null,
   "metadata": {
    "vscode": {
     "languageId": "wolfram"
    }
   },
   "outputs": [],
   "source": [
    "EvaluationOfCovD[covd[a], F[-a, 0]]//TeXForm"
   ]
  },
  {
   "attachments": {},
   "cell_type": "markdown",
   "metadata": {},
   "source": [
    "coordinates change\n",
    "--------\n",
    "We can define a relation between two coordinates. Note that this may be exploited in tetrad formalism."
   ]
  },
  {
   "cell_type": "code",
   "execution_count": null,
   "metadata": {
    "vscode": {
     "languageId": "wolfram language"
    }
   },
   "outputs": [],
   "source": [
    "Basis[{a, Cartesian}, {-b, -Spherical}]"
   ]
  },
  {
   "cell_type": "code",
   "execution_count": null,
   "metadata": {
    "vscode": {
     "languageId": "wolfram language"
    }
   },
   "outputs": [],
   "source": [
    "x /: InChart[x[], Spherical] = \n",
    "  Function[{t, r, \\[Theta], \\[Phi]}, r Cos[\\[Phi]] Sin[\\[Theta]]];\n",
    "y /: InChart[y[], Spherical] = \n",
    "  Function[{t, r, \\[Theta], \\[Phi]}, r Sin[\\[Phi]] Sin[\\[Theta]]];\n",
    "z /: InChart[z[], Spherical] = \n",
    "  Function[{t, r, \\[Theta], \\[Phi]}, r Cos[\\[Theta]]];\n",
    "r /: InChart[r[], Cartesian] = \n",
    "  Function[{t, x, y, z}, Sqrt[x^2 + y^2 + z^2]];\n",
    "\\[Theta] /: InChart[\\[Theta][], Cartesian] = \n",
    "  Function[{t, x, y, z}, ArcCos[z/Sqrt[x^2 + y^2 + z^2]]];\n",
    "\\[Phi] /: InChart[\\[Phi][], Cartesian] = \n",
    "  Function[{t, x, y, z}, ArcTan[x, y]];\n",
    "$Assumptions = And[\n",
    "   {t[], x[], y[], z[], r[], \\[Phi][], \\[Theta][]} \\[Element] Reals,\n",
    "   r[] >= 0,\n",
    "   0 <= \\[Theta][] <= Pi,\n",
    "   0 <= \\[Phi][] < 2 Pi\n",
    "   ];"
   ]
  },
  {
   "attachments": {},
   "cell_type": "markdown",
   "metadata": {},
   "source": [
    "Let us check our function works well by conducting transformation and its inverse."
   ]
  },
  {
   "cell_type": "code",
   "execution_count": null,
   "metadata": {
    "vscode": {
     "languageId": "wolfram language"
    }
   },
   "outputs": [],
   "source": [
    "ScalarsOfChart[Cartesian]\n",
    "InChart[Spherical] /@ %\n",
    "(InChart[Cartesian] /@ %) // Simplify"
   ]
  },
  {
   "attachments": {},
   "cell_type": "markdown",
   "metadata": {},
   "source": [
    "We need an additional package to apply this to general tensors. "
   ]
  },
  {
   "cell_type": "code",
   "execution_count": null,
   "metadata": {
    "vscode": {
     "languageId": "wolfram language"
    }
   },
   "outputs": [],
   "source": [
    "Quiet@Block[{Print}, << xAct`xTras`]\n",
    "MatrixForm /@ ComputeBasisValues[Cartesian, Spherical]"
   ]
  },
  {
   "cell_type": "code",
   "execution_count": null,
   "metadata": {
    "vscode": {
     "languageId": "wolfram language"
    }
   },
   "outputs": [],
   "source": [
    "F[-a, -b] // ToBasis[Spherical] // ComponentArray"
   ]
  },
  {
   "cell_type": "code",
   "execution_count": null,
   "metadata": {
    "vscode": {
     "languageId": "wolfram language"
    }
   },
   "outputs": [],
   "source": [
    "F[-a, -b] // ToBasis[Spherical] // SeparateBasis[Cartesian] // ComponentArray"
   ]
  },
  {
   "cell_type": "code",
   "execution_count": null,
   "metadata": {
    "vscode": {
     "languageId": "wolfram language"
    }
   },
   "outputs": [],
   "source": [
    "F[-a, -b] // ToBasis[Spherical] // SeparateBasis[Cartesian] // ComponentArray // TraceBasisDummy // MyArrayComponents"
   ]
  },
  {
   "attachments": {},
   "cell_type": "markdown",
   "metadata": {},
   "source": [
    "CTensor: more convenient way to compute tensor components\n",
    "--------"
   ]
  },
  {
   "cell_type": "code",
   "execution_count": null,
   "metadata": {
    "vscode": {
     "languageId": "wolfram"
    }
   },
   "outputs": [],
   "source": [
    "removeAll\n",
    "removeAll := Remove[Evaluate[$Context <> \"*\"]];"
   ]
  },
  {
   "cell_type": "code",
   "execution_count": null,
   "metadata": {
    "vscode": {
     "languageId": "wolfram language"
    }
   },
   "outputs": [],
   "source": [
    "Quiet@Block[{Print}, << xAct`xCoba`]\n",
    "DefManifold[M, 4, {a, b, c, d}];\n",
    "DefScalarFunction /@ {X, R, H}; (*scale factor and Hubble factor*)\n",
    "R'[t_] := H[t] R[t]\n",
    "R''[t_] := D[H[t] R[t], t]\n",
    "metricMatrix =\n",
    "  {\n",
    "   {-1, 0, 0, 0},\n",
    "   {0, Z[t[]]^2, 0, 0},\n",
    "   {0, 0, Z[t[]]^2, 0},\n",
    "   {0, 0, 0, Z[t[]]^2}\n",
    "   };\n",
    "matrixComponent =\n",
    "  {\n",
    "   {X[t[]], 0, 0, 0},\n",
    "   {0, X[t[]], 0, 0},\n",
    "   {0, 0, X[t[]], 0},\n",
    "   {0, 0, 0, X[t[]]}\n",
    "   };\n",
    "Quiet@Block[{Print}, DefChart[Cartesian, M, {0, 1, 2, 3}, {t[], x[], y[], z[]}, ChartColor -> Green]];"
   ]
  },
  {
   "cell_type": "code",
   "execution_count": null,
   "metadata": {
    "vscode": {
     "languageId": "wolfram language"
    }
   },
   "outputs": [],
   "source": [
    "g = CTensor[metricMatrix, {-Cartesian, -Cartesian}];"
   ]
  },
  {
   "cell_type": "code",
   "execution_count": null,
   "metadata": {
    "vscode": {
     "languageId": "wolfram language"
    }
   },
   "outputs": [],
   "source": [
    "g[-a, -b]"
   ]
  },
  {
   "cell_type": "code",
   "execution_count": null,
   "metadata": {
    "vscode": {
     "languageId": "wolfram language"
    }
   },
   "outputs": [],
   "source": [
    "SetCMetric[g, Cartesian, SignatureOfMetric -> {3, 1, 0}]"
   ]
  },
  {
   "cell_type": "code",
   "execution_count": null,
   "metadata": {
    "vscode": {
     "languageId": "wolfram language"
    }
   },
   "outputs": [],
   "source": [
    "g[a, b]"
   ]
  },
  {
   "cell_type": "code",
   "execution_count": null,
   "metadata": {
    "vscode": {
     "languageId": "wolfram language"
    }
   },
   "outputs": [],
   "source": [
    "F = CTensor[matrixComponent, {-Cartesian, -Cartesian}];\n",
    "F[-a, b]"
   ]
  },
  {
   "cell_type": "code",
   "execution_count": null,
   "metadata": {
    "vscode": {
     "languageId": "wolfram language"
    }
   },
   "outputs": [],
   "source": [
    "CD = LC[g];"
   ]
  },
  {
   "cell_type": "code",
   "execution_count": null,
   "metadata": {
    "vscode": {
     "languageId": "wolfram language"
    }
   },
   "outputs": [],
   "source": [
    "CD[c]@g[a, b]"
   ]
  },
  {
   "cell_type": "code",
   "execution_count": null,
   "metadata": {
    "vscode": {
     "languageId": "wolfram language"
    }
   },
   "outputs": [],
   "source": [
    "CD[a]@F[-a, -b]"
   ]
  },
  {
   "cell_type": "markdown",
   "metadata": {},
   "source": [
    "To show long complex components, we adjust display parameter."
   ]
  },
  {
   "cell_type": "code",
   "execution_count": null,
   "metadata": {
    "vscode": {
     "languageId": "wolfram language"
    }
   },
   "outputs": [],
   "source": [
    "xAct`xCoba`$LargeComponentSize = 3000;\n",
    "CD[a]@F[-a, -b]"
   ]
  },
  {
   "cell_type": "code",
   "execution_count": null,
   "metadata": {
    "vscode": {
     "languageId": "wolfram language"
    }
   },
   "outputs": [],
   "source": [
    "Einstein[CD][-a, -b]"
   ]
  },
  {
   "attachments": {},
   "cell_type": "markdown",
   "metadata": {},
   "source": [
    "action principle\n",
    "--------"
   ]
  },
  {
   "cell_type": "code",
   "execution_count": null,
   "metadata": {
    "vscode": {
     "languageId": "wolfram"
    }
   },
   "outputs": [],
   "source": [
    "removeAll\n",
    "removeAll := Remove[Evaluate[$Context <> \"*\"]];"
   ]
  },
  {
   "cell_type": "code",
   "execution_count": null,
   "metadata": {
    "vscode": {
     "languageId": "wolfram language"
    }
   },
   "outputs": [],
   "source": [
    "ClearAll[\"Global`*\"];\n",
    "Quiet@Block[{Print}, << xAct`xPert`]\n",
    "DefManifold[M, 4, {a, b, c, d}]"
   ]
  },
  {
   "cell_type": "code",
   "execution_count": null,
   "metadata": {
    "vscode": {
     "languageId": "wolfram language"
    }
   },
   "outputs": [],
   "source": [
    "PerturbAction[expr_, \n",
    "  g_?MetricQ[a_?UpIndexQ, b_?UpIndexQ] | \n",
    "   g_?MetricQ[a_?DownIndexQ, b_?DownIndexQ]] := \n",
    " Module[{pertexpr, res, dgloc,(*dummyloc,*)hp},\n",
    "  \n",
    "  (* We define the metric perturbation, if not defined already *)\n",
    "  dgloc = SymbolJoin[\"\\[Delta]\", g];\n",
    "  \n",
    "  hp = Head@Perturbation[g[DownIndex@a, DownIndex@b]];\n",
    "  \n",
    "  If[hp === Perturbation, \n",
    "   DefMetricPerturbation[g, dgloc, SymbolJoin[\"\\[Epsilon]\", g]], \n",
    "   dgloc = hp];\n",
    "  \n",
    "  \n",
    "  Block[{$DefInfoQ = False},\n",
    "   \n",
    "   (* We perturb wrt to the metric and if it is the inverse metric we \\\n",
    "put a minus sign *)\n",
    "   pertexpr = (If[DownIndexQ[a], 1, -1])*\n",
    "      ToCanonical@\n",
    "       ContractMetric@ExpandPerturbation@Perturbation[expr] /. \n",
    "     Perturbation[tens_] :> 0;\n",
    "   \n",
    "   (*We then use VarD. \n",
    "   It happens that some trivial Kronecker appear which need to be \\\n",
    "handle manually *)\n",
    "   res = \n",
    "    ToCanonical[(SameDummies@\n",
    "        ContractMetric@\n",
    "         VarD[dgloc[LI[1], a, b], CovDOfMetric[g]][pertexpr]) /. \n",
    "      delta[-LI[n_], LI[m_]] :> \n",
    "       KroneckerDelta[NoScalar[n], NoScalar[m]]];\n",
    "   ];\n",
    "  res\n",
    "  ]\n",
    "PerturbAction[expr_, tensor_?xTensorQ, covd_] := \n",
    " Module[{res, dummyloc, pertexpr, inds},\n",
    "  Block[{$DefInfoQ = False},\n",
    "   \n",
    "   (* We use a dummy name for the variation of the tensor, \n",
    "   and use it to replace the formal first order perturbation the \\\n",
    "tensor *)\n",
    "   (* So first we define this dummy tensor *)\n",
    "   dummyloc = SymbolJoin[\"Var\", tensor];\n",
    "   inds = DummyIn /@ SlotsOfTensor[tensor];\n",
    "   If[! xTensorQ[dummyloc], \n",
    "    DefTensor[dummyloc @@ inds, First@DependenciesOfTensor@tensor]];\n",
    "   SymmetryGroupOfTensor[dummyloc] ^= SymmetryGroupOfTensor[tensor];\n",
    "   \n",
    "   (* Then we perturb the action and replace Perturbation[\n",
    "   Tensor[..]] by this dummy tensor *)\n",
    "   pertexpr = (ToCanonical@\n",
    "      ContractMetric[\n",
    "       ExpandPerturbation@Perturbation[expr] /. \n",
    "         Perturbation[tens_?((# =!= tensor) &)[ar___]] :> 0 /. \n",
    "        Perturbation[tensor[ind___]] :> dummyloc[ind]]);\n",
    "   \n",
    "   (* With this simple head, VarD works correctly. \n",
    "   Again we need to handel some trivial Kronecker *)\n",
    "   res = \n",
    "    ToCanonical[(SameDummies@\n",
    "        ContractMetric@VarD[dummyloc @@ inds, covd][pertexpr]) /. \n",
    "      delta[-LI[n_], LI[m_]] :> \n",
    "       KroneckerDelta[NoScalar[n], NoScalar[m]]];\n",
    "   ];\n",
    "  res\n",
    "  ]\n",
    "PerturbAction[expr_, tensor_[inds___]] := \n",
    " PerturbAction[expr, tensor[inds], CovDOfMetric@First@$Metrics]\n",
    "PerturbAction[expr_, tensor_?xTensorQ[inds___], covd_] := \n",
    " Module[{res, dummyloc, pertexpr},\n",
    "  Block[{$DefInfoQ = False},\n",
    "   dummyloc = SymbolJoin[\"Var\", tensor];\n",
    "   \n",
    "   If[! xTensorQ[dummyloc], \n",
    "    DefTensor[dummyloc[inds], First@DependenciesOfTensor@tensor]];\n",
    "   SymmetryGroupOfTensor[dummyloc] ^= SymmetryGroupOfTensor[tensor];\n",
    "   \n",
    "   (* Perturbation with xPert*)\n",
    "   pertexpr = (ToCanonical@\n",
    "      ContractMetric[\n",
    "       ExpandPerturbation@Perturbation[expr] /. \n",
    "         Perturbation[tens_?((# =!= tensor) &)[ar___]] :> 0 /. \n",
    "        Perturbation[tensor[ind___]] :> dummyloc[ind]]);\n",
    "   (* VarD and removal of KroneckerDelta*)\n",
    "   res = \n",
    "    ToCanonical[(SameDummies@\n",
    "        ContractMetric@VarD[dummyloc[inds], covd][pertexpr]) /. \n",
    "      delta[-LI[n_], LI[m_]] :> \n",
    "       KroneckerDelta[NoScalar[n], NoScalar[m]]];\n",
    "   ];\n",
    "  res\n",
    "  ]"
   ]
  },
  {
   "cell_type": "code",
   "execution_count": null,
   "metadata": {
    "vscode": {
     "languageId": "wolfram language"
    }
   },
   "outputs": [],
   "source": [
    "VarAction[expr_, \n",
    "  g_?MetricQ[as__?((UpIndexQ[#] || DownIndexQ[#]) &)]] := \n",
    " Module[{sqrtg},\n",
    "  sqrtg = Sqrt[SignDetOfMetric[g] Determinant[g][]];\n",
    "  ToCanonical[\n",
    "   PerturbAction[expr, g[as]] + \n",
    "    ReplaceDummies@expr*PerturbAction[sqrtg, g[as]]/sqrtg ]\n",
    "  ]\n",
    "VarAction[expr_, tensor_?((xTensorQ[#] && Not[MetricQ[#]]) &), \n",
    "  g_?MetricQ] := PerturbAction[expr, tensor, CovDOfMetric[g]]\n",
    "VarAction[expr_, tensor_?((xTensorQ[#] && Not[MetricQ[#]]) &)] := \n",
    "  VarAction[expr, tensor, First@$Metrics];\n",
    "\n",
    "VarAction[expr_, \n",
    "  tensor_?((xTensorQ[#] && Not[MetricQ[#]]) &)[inds___], g_?MetricQ] :=\n",
    "  PerturbAction[expr, tensor[inds], CovDOfMetric[g]]\n",
    "VarAction[expr_, \n",
    "   tensor_?((xTensorQ[#] && Not[MetricQ[#]]) &)[inds___]] := \n",
    "  VarAction[expr, tensor[inds], First@$Metrics];"
   ]
  },
  {
   "cell_type": "code",
   "execution_count": null,
   "metadata": {
    "vscode": {
     "languageId": "wolfram language"
    }
   },
   "outputs": [],
   "source": [
    "Quiet@Block[{Print},\n",
    "  DefTensor[\\[Phi][], M];\n",
    "  DefScalarFunction[V];\n",
    "  \n",
    "  DefTensor[A[-a], M];\n",
    "  DefTensor[F[-a, -b], M, Antisymmetric[{-a, -b}]] ;\n",
    "  IndexSetDelayed[F[a_, b_], CD[a][A[b]] - CD[b][A[a]]];\n",
    "  \n",
    "  DefMetric[-1, g[-a, -b], CD, {\";\", \"\\[Del]\"}, PrintAs -> \"g\"];\n",
    "  ]"
   ]
  },
  {
   "attachments": {},
   "cell_type": "markdown",
   "metadata": {},
   "source": [
    "Scalar field Lagrangian"
   ]
  },
  {
   "cell_type": "code",
   "execution_count": null,
   "metadata": {
    "vscode": {
     "languageId": "wolfram language"
    }
   },
   "outputs": [],
   "source": [
    "L = 1/2 CD[a]@\\[Phi][] CD[-a]@\\[Phi][] - V[\\[Phi][]];\n",
    "VarAction[L, g[a, b]];\n",
    "%//TeXForm\n",
    "VarAction[L, \\[Phi][]];\n",
    "%//TeXForm"
   ]
  },
  {
   "attachments": {},
   "cell_type": "markdown",
   "metadata": {},
   "source": [
    "Maxwell Lagrangian"
   ]
  },
  {
   "cell_type": "code",
   "execution_count": null,
   "metadata": {
    "vscode": {
     "languageId": "wolfram language"
    }
   },
   "outputs": [],
   "source": [
    "L = F[a, b] F[-a, -b]/4;\n",
    "VarAction[L, g[a, b]];\n",
    "%//TeXForm\n",
    "VarAction[L, A[a]];\n",
    "%//TeXForm"
   ]
  },
  {
   "attachments": {},
   "cell_type": "markdown",
   "metadata": {},
   "source": [
    "Hilbert - Einstein Lagrangian"
   ]
  },
  {
   "cell_type": "code",
   "execution_count": null,
   "metadata": {
    "vscode": {
     "languageId": "wolfram language"
    }
   },
   "outputs": [],
   "source": [
    "L = RicciScalarCD[];\n",
    "VarAction[L, g[a, b]];\n",
    "%//TeXForm"
   ]
  },
  {
   "attachments": {},
   "cell_type": "markdown",
   "metadata": {},
   "source": [
    "Neat example: $ R + \\alpha R^2 + \\beta R_{ab} R^{ab} $ gravity\n",
    "--------"
   ]
  },
  {
   "attachments": {},
   "cell_type": "markdown",
   "metadata": {},
   "source": [
    "First some definitions to construct Lagrangian:"
   ]
  },
  {
   "cell_type": "code",
   "execution_count": null,
   "metadata": {
    "vscode": {
     "languageId": "wolfram"
    }
   },
   "outputs": [],
   "source": [
    "ClearAll[\\[Alpha], \\[Beta]];\n",
    "DefTensor[\\[Alpha][], M];\n",
    "DefTensor[\\[Beta][], M];\n",
    "L = RicciScalarCD[] + \\[Alpha][] (RicciScalarCD[])^2 + \\[Beta][] \\\n",
    "RicciCD[-a, -b] RicciCD[a, b]"
   ]
  },
  {
   "attachments": {},
   "cell_type": "markdown",
   "metadata": {},
   "source": [
    "Then we vary the action with the metric tensor."
   ]
  },
  {
   "cell_type": "code",
   "execution_count": null,
   "metadata": {
    "vscode": {
     "languageId": "wolfram"
    }
   },
   "outputs": [],
   "source": [
    "C1Rule = MakeRule[{CD[a]@\\[Alpha][], 0}];\n",
    "C2Rule = MakeRule[{CD[a]@\\[Beta][], 0}];\n",
    "(*To assure C1 and C2 are coefficients*)\n",
    "VariedAction = \n",
    " VarAction[L, g[a, b]] /. C1Rule /. C2Rule // FullSimplify"
   ]
  },
  {
   "attachments": {},
   "cell_type": "markdown",
   "metadata": {},
   "source": [
    "It is impossible to evaluate the above result using CTensor, so we make a temporary file to store the result."
   ]
  },
  {
   "cell_type": "code",
   "execution_count": null,
   "metadata": {
    "vscode": {
     "languageId": "wolfram"
    }
   },
   "outputs": [],
   "source": [
    "Export[ToString[NotebookDirectory[]] <> \"VariedAction.png\", Rasterize[NotebookRead[PreviousCell[]], ImageResolution -> 100, ImageSize -> Large]];"
   ]
  },
  {
   "attachments": {},
   "cell_type": "markdown",
   "metadata": {},
   "source": [
    "To find Friedmann equations, we have to redefine Chart, metric, etc. again."
   ]
  },
  {
   "cell_type": "code",
   "execution_count": null,
   "metadata": {
    "vscode": {
     "languageId": "wolfram"
    }
   },
   "outputs": [],
   "source": [
    "removeAll;\n",
    "removeAll := Remove[Evaluate[$Context <> \"*\"]];\n",
    "Quiet@Block[{Print},\n",
    "  << xAct`xCoba` << xAct`xTras`;\n",
    "  DefManifold[M, 4, {a, b, c, d}];\n",
    "  DefChart[Cartesian, M, {0, 1, 2, 3}, {t[], x[], y[], z[]}];\n",
    "  DefScalarFunction /@ {R, H}; \n",
    "  DefScalarFunction /@ {\\[Alpha], \\[Beta]}; \n",
    "  R'[t_] := H[t] R[t];\n",
    "  R''[t_] := D[H[t] R[t], t];\n",
    "  metricMatrix =\n",
    "   {\n",
    "    {-R[t[]]^2, 0, 0, 0},\n",
    "    {0, R[t[]]^2, 0, 0},\n",
    "    {0, 0, R[t[]]^2, 0},\n",
    "    {0, 0, 0, R[t[]]^2}\n",
    "    };\n",
    "  g = CTensor[metricMatrix, {-Cartesian, -Cartesian}];\n",
    "  SetCMetric[g, Cartesian, SignatureOfMetric -> {3, 1, 0}];\n",
    "  covd = LC[g];\n",
    "  MetricCompute[g, Cartesian, All];]"
   ]
  },
  {
   "cell_type": "code",
   "execution_count": null,
   "metadata": {
    "vscode": {
     "languageId": "wolfram"
    }
   },
   "outputs": [],
   "source": [
    "Import[ToString[NotebookDirectory[]] <> \"VariedAction.png\"]"
   ]
  },
  {
   "attachments": {},
   "cell_type": "markdown",
   "metadata": {},
   "source": [
    "We need to convert the above output to the corresponding CTensor form manually... (a bit tedious but no other way!)"
   ]
  },
  {
   "cell_type": "code",
   "execution_count": null,
   "metadata": {
    "vscode": {
     "languageId": "wolfram"
    }
   },
   "outputs": [],
   "source": [
    "MyArrayComponents[expr_] := \n",
    " expr // ToBasis[Cartesian] // ComponentArray // ToValues // \n",
    "    ToValues // ToValues // Simplify\n",
    "Eq = Ricci[covd][-a, b] (1 + \\[Alpha][] RicciScalar[covd][[1]]) - \n",
    "    2 \\[Alpha][] covd[b][\n",
    "      covd[-a][\n",
    "       RicciScalar[covd][[1]]]] + \\[Beta][] (2 Ricci[covd][-a, \n",
    "         c] Ricci[covd][b, -c] - \n",
    "       covd[-c][covd[-a][Ricci[covd][b, c]]] - \n",
    "       covd[-c][covd[b][Ricci[covd][-a, c]]] + \n",
    "       covd[-c][covd[c][Ricci[covd][-a, b]]]) - \n",
    "    1/2 g[-a, \n",
    "      b] (RicciScalar[\n",
    "         covd][[1]] + \\[Alpha][] RicciScalar[covd][[1]]^2 + \n",
    "       Ricci[covd][-c, -d] Ricci[covd][c, d] - \n",
    "       4 \\[Alpha][] covd[-c][covd[c][RicciScalar[covd][[1]]]] - \n",
    "       2 \\[Beta][] covd[-d][covd[-c][Ricci[covd][c, d]]]) // \n",
    "   MyArrayComponents;"
   ]
  },
  {
   "attachments": {},
   "cell_type": "markdown",
   "metadata": {},
   "source": [
    "Let' s now define the energy-momentum tensor. We first define an observer' s 4-velocity vector $u^{\\mu}$."
   ]
  },
  {
   "cell_type": "code",
   "execution_count": null,
   "metadata": {
    "vscode": {
     "languageId": "wolfram"
    }
   },
   "outputs": [],
   "source": [
    "DefTensor[u[a], M];\n",
    "uComponents = {Simplify[\n",
    "    1/Sqrt[-g[{0, -Cartesian}, {0, -Cartesian}]] // ToValues, \n",
    "    Assumptions -> R[t[]] > 0], 0, 0, 0};\n",
    "u = CTensor[uComponents, {Cartesian}];"
   ]
  },
  {
   "attachments": {},
   "cell_type": "markdown",
   "metadata": {},
   "source": [
    "and then components of the energy-momentum tensor."
   ]
  },
  {
   "cell_type": "code",
   "execution_count": null,
   "metadata": {
    "vscode": {
     "languageId": "wolfram"
    }
   },
   "outputs": [],
   "source": [
    "DefTensor[T[-a, -b], M, Symmetric[{-a, -b}]];\n",
    "DefScalarFunction[P];\n",
    "DefScalarFunction[\\[Rho]];\n",
    "IndexSet[\n",
    "  T[a_, b_], \\[Rho][t[]] u[a] u[b] + P[t[]] (g[a, b] + u[a] u[b])];"
   ]
  },
  {
   "cell_type": "code",
   "execution_count": null,
   "metadata": {
    "vscode": {
     "languageId": "wolfram"
    }
   },
   "outputs": [],
   "source": [
    "EMTensor = T[-a, b] // MyArrayComponents;"
   ]
  },
  {
   "attachments": {},
   "cell_type": "markdown",
   "metadata": {},
   "source": [
    "Now let's find Friedmann equation for this theory!"
   ]
  },
  {
   "cell_type": "code",
   "execution_count": null,
   "metadata": {
    "vscode": {
     "languageId": "wolfram"
    }
   },
   "outputs": [],
   "source": [
    "DefConstantSymbol[\\[Kappa]];(* 8\\[Pi]G*)\n",
    "EinsteinEq[a_, b_] := Eq[[a, b]] == \\[Kappa] EMTensor[[a, b]];"
   ]
  },
  {
   "attachments": {},
   "cell_type": "markdown",
   "metadata": {},
   "source": [
    "temporal and spatial terms. Note that here we did not use Bianchi identity to simplify equations so there appears higher derivative terms, i.e., $H^{3}[t]$."
   ]
  },
  {
   "cell_type": "code",
   "execution_count": null,
   "metadata": {
    "vscode": {
     "languageId": "wolfram"
    }
   },
   "outputs": [],
   "source": [
    "G00Eq = Collect[EinsteinEq[1, 1], {H[t[]], H'[t[]]}, Simplify]//TeXForm\n",
    "GrrEq = Collect[EinsteinEq[2, 2], {H[t[]], H'[t[]]}, Simplify]//TeXForm"
   ]
  },
  {
   "attachments": {},
   "cell_type": "markdown",
   "metadata": {},
   "source": [
    "A specific form to represent the equation on $H^\\prime$:"
   ]
  },
  {
   "cell_type": "code",
   "execution_count": null,
   "metadata": {
    "vscode": {
     "languageId": "wolfram"
    }
   },
   "outputs": [],
   "source": [
    "Collect[3 GrrEq - G00Eq, {H[t[]], H'[t[]]}, Simplify]//TeXForm"
   ]
  },
  {
   "attachments": {},
   "cell_type": "markdown",
   "metadata": {},
   "source": [
    "For matter conservation equation:"
   ]
  },
  {
   "cell_type": "code",
   "execution_count": null,
   "metadata": {
    "vscode": {
     "languageId": "wolfram"
    }
   },
   "outputs": [],
   "source": [
    "Cons[b_] := Module[{a}, covd[-a]@T[a, b] == 0]\n",
    "(Cons[b] // MyArrayComponents)[[1]]//TeXForm"
   ]
  }
 ],
 "metadata": {
  "kernelspec": {
   "display_name": "Wolfram Language 13.1",
   "language": "Wolfram Language",
   "name": "wolframlanguage13.1"
  },
  "language_info": {
   "codemirror_mode": "mathematica",
   "file_extension": ".m",
   "mimetype": "application/vnd.wolfram.m",
   "name": "Wolfram Language",
   "pygments_lexer": "mathematica",
   "version": "12.0"
  }
 },
 "nbformat": 4,
 "nbformat_minor": 2
}
